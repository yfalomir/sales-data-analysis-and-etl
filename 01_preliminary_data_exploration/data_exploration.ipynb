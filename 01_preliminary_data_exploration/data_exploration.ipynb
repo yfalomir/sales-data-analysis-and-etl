{
 "cells": [
  {
   "cell_type": "markdown",
   "metadata": {},
   "source": [
    "# Preliminary data exploration\n",
    "\n",
    "In this notebook we will quickly explore our data to understand it better and find any anomaly that we would have to deal with later on."
   ]
  },
  {
   "cell_type": "code",
   "execution_count": 5,
   "metadata": {},
   "outputs": [],
   "source": [
    "import pandas as pd\n",
    "import seaborn as sns\n",
    "import datetime\n",
    "import matplotlib.pyplot as plt"
   ]
  },
  {
   "cell_type": "code",
   "execution_count": 6,
   "metadata": {},
   "outputs": [
    {
     "name": "stdout",
     "output_type": "stream",
     "text": [
      "df_07 columns: Index(['id', 'user_id', 'completed_at', 'item_total', 'shipment_total'], dtype='object')\n",
      "df_08 columns: Index(['id', 'user_id', 'completed_at', 'item_total', 'shipment_total'], dtype='object')\n",
      "df_09 columns: Index(['id', 'user_id', 'completed_at', 'item_total', 'shipment_total'], dtype='object')\n"
     ]
    }
   ],
   "source": [
    "df_07 = pd.read_csv(\"../02_data_pipeline/data/raw_data/2022_07.csv\")\n",
    "df_08 = pd.read_csv(\"../02_data_pipeline/data/raw_data/2022_08.csv\")\n",
    "df_09 = pd.read_csv(\"../02_data_pipeline/data/raw_data/2022_09.csv\")\n",
    "print(\"df_07 columns:\", df_07.columns)\n",
    "print(\"df_08 columns:\", df_08.columns)\n",
    "print(\"df_09 columns:\", df_09.columns)"
   ]
  },
  {
   "cell_type": "markdown",
   "metadata": {},
   "source": [
    "Each file follows the same structure:\n",
    "Each row represents one order and is defined by 5 columns ['id', 'user_id', 'completed_at', 'item_total', 'shipment_total'].\n",
    "To simplify further exploration we will concatenate the dataframes."
   ]
  },
  {
   "cell_type": "code",
   "execution_count": 7,
   "metadata": {},
   "outputs": [
    {
     "data": {
      "text/html": [
       "<div>\n",
       "<style scoped>\n",
       "    .dataframe tbody tr th:only-of-type {\n",
       "        vertical-align: middle;\n",
       "    }\n",
       "\n",
       "    .dataframe tbody tr th {\n",
       "        vertical-align: top;\n",
       "    }\n",
       "\n",
       "    .dataframe thead th {\n",
       "        text-align: right;\n",
       "    }\n",
       "</style>\n",
       "<table border=\"1\" class=\"dataframe\">\n",
       "  <thead>\n",
       "    <tr style=\"text-align: right;\">\n",
       "      <th></th>\n",
       "      <th>id</th>\n",
       "      <th>user_id</th>\n",
       "      <th>completed_at</th>\n",
       "      <th>item_total</th>\n",
       "      <th>shipment_total</th>\n",
       "    </tr>\n",
       "  </thead>\n",
       "  <tbody>\n",
       "    <tr>\n",
       "      <th>0</th>\n",
       "      <td>236777</td>\n",
       "      <td>7258</td>\n",
       "      <td>2022-07-01 00:19</td>\n",
       "      <td>39.14</td>\n",
       "      <td>2.5</td>\n",
       "    </tr>\n",
       "    <tr>\n",
       "      <th>1</th>\n",
       "      <td>251366</td>\n",
       "      <td>28710</td>\n",
       "      <td>2022-07-01 06:21</td>\n",
       "      <td>46.95</td>\n",
       "      <td>2.5</td>\n",
       "    </tr>\n",
       "    <tr>\n",
       "      <th>2</th>\n",
       "      <td>251363</td>\n",
       "      <td>28709</td>\n",
       "      <td>2022-07-01 06:22</td>\n",
       "      <td>48.93</td>\n",
       "      <td>2.5</td>\n",
       "    </tr>\n",
       "    <tr>\n",
       "      <th>3</th>\n",
       "      <td>251370</td>\n",
       "      <td>28711</td>\n",
       "      <td>2022-07-01 06:38</td>\n",
       "      <td>60.86</td>\n",
       "      <td>2.5</td>\n",
       "    </tr>\n",
       "    <tr>\n",
       "      <th>4</th>\n",
       "      <td>230933</td>\n",
       "      <td>23483</td>\n",
       "      <td>2022-07-01 07:43</td>\n",
       "      <td>49.90</td>\n",
       "      <td>5.0</td>\n",
       "    </tr>\n",
       "  </tbody>\n",
       "</table>\n",
       "</div>"
      ],
      "text/plain": [
       "       id  user_id      completed_at  item_total  shipment_total\n",
       "0  236777     7258  2022-07-01 00:19       39.14             2.5\n",
       "1  251366    28710  2022-07-01 06:21       46.95             2.5\n",
       "2  251363    28709  2022-07-01 06:22       48.93             2.5\n",
       "3  251370    28711  2022-07-01 06:38       60.86             2.5\n",
       "4  230933    23483  2022-07-01 07:43       49.90             5.0"
      ]
     },
     "execution_count": 7,
     "metadata": {},
     "output_type": "execute_result"
    }
   ],
   "source": [
    "df = pd.concat([df_07, df_08, df_09])\n",
    "df.head()"
   ]
  },
  {
   "cell_type": "code",
   "execution_count": 8,
   "metadata": {},
   "outputs": [
    {
     "data": {
      "text/plain": [
       "id                  int64\n",
       "user_id             int64\n",
       "completed_at       object\n",
       "item_total        float64\n",
       "shipment_total    float64\n",
       "dtype: object"
      ]
     },
     "execution_count": 8,
     "metadata": {},
     "output_type": "execute_result"
    }
   ],
   "source": [
    "df.dtypes"
   ]
  },
  {
   "cell_type": "code",
   "execution_count": 9,
   "metadata": {},
   "outputs": [],
   "source": [
    "df[\"completed_at\"] = pd.to_datetime(df[\"completed_at\"])"
   ]
  },
  {
   "cell_type": "code",
   "execution_count": 10,
   "metadata": {},
   "outputs": [
    {
     "data": {
      "text/plain": [
       "4357"
      ]
     },
     "execution_count": 10,
     "metadata": {},
     "output_type": "execute_result"
    }
   ],
   "source": [
    "len(df.index)"
   ]
  },
  {
   "cell_type": "code",
   "execution_count": 11,
   "metadata": {},
   "outputs": [
    {
     "data": {
      "text/plain": [
       "id                0\n",
       "user_id           0\n",
       "completed_at      0\n",
       "item_total        0\n",
       "shipment_total    0\n",
       "dtype: int64"
      ]
     },
     "execution_count": 11,
     "metadata": {},
     "output_type": "execute_result"
    }
   ],
   "source": [
    "df.isnull().sum()"
   ]
  },
  {
   "cell_type": "code",
   "execution_count": 12,
   "metadata": {},
   "outputs": [
    {
     "data": {
      "text/plain": [
       "id                0\n",
       "user_id           0\n",
       "completed_at      0\n",
       "item_total        0\n",
       "shipment_total    0\n",
       "dtype: int64"
      ]
     },
     "execution_count": 12,
     "metadata": {},
     "output_type": "execute_result"
    }
   ],
   "source": [
    "df.isna().sum()"
   ]
  },
  {
   "cell_type": "markdown",
   "metadata": {},
   "source": [
    "There is no NaN or null in our data so we can proceed to plotting our different features to understand them and check for problematic outliers\n",
    "\n",
    "### Quantitative features\n",
    "\n",
    "\n",
    "(item_total, shipment_total)"
   ]
  },
  {
   "cell_type": "code",
   "execution_count": 13,
   "metadata": {},
   "outputs": [
    {
     "data": {
      "text/plain": [
       "[Text(1, 0, 'shipment_total')]"
      ]
     },
     "execution_count": 13,
     "metadata": {},
     "output_type": "execute_result"
    },
    {
     "data": {
      "image/png": "[encoded data removed]",
      "text/plain": [
       "<Figure size 640x480 with 2 Axes>"
      ]
     },
     "metadata": {},
     "output_type": "display_data"
    }
   ],
   "source": [
    "%matplotlib inline\n",
    "fig, (ax1, ax2) =plt.subplots(1,2)\n",
    "ax1.boxplot(df['item_total'], )\n",
    "ax1.set_title(\"Box plot of item total\")\n",
    "ax1.set_xticklabels([\"item_total\"])\n",
    "ax2.boxplot(df['shipment_total'])\n",
    "ax2.set_title(\"Box plot of shipment total\")\n",
    "ax2.set_xticklabels([\"shipment_total\"])\n"
   ]
  },
  {
   "cell_type": "code",
   "execution_count": 14,
   "metadata": {},
   "outputs": [
    {
     "data": {
      "text/html": [
       "<div>\n",
       "<style scoped>\n",
       "    .dataframe tbody tr th:only-of-type {\n",
       "        vertical-align: middle;\n",
       "    }\n",
       "\n",
       "    .dataframe tbody tr th {\n",
       "        vertical-align: top;\n",
       "    }\n",
       "\n",
       "    .dataframe thead th {\n",
       "        text-align: right;\n",
       "    }\n",
       "</style>\n",
       "<table border=\"1\" class=\"dataframe\">\n",
       "  <thead>\n",
       "    <tr style=\"text-align: right;\">\n",
       "      <th></th>\n",
       "      <th>id</th>\n",
       "      <th>user_id</th>\n",
       "      <th>completed_at</th>\n",
       "      <th>item_total</th>\n",
       "      <th>shipment_total</th>\n",
       "    </tr>\n",
       "  </thead>\n",
       "  <tbody>\n",
       "    <tr>\n",
       "      <th>9</th>\n",
       "      <td>247792</td>\n",
       "      <td>4493</td>\n",
       "      <td>2022-07-01 09:42:00</td>\n",
       "      <td>0.0</td>\n",
       "      <td>0.0</td>\n",
       "    </tr>\n",
       "  </tbody>\n",
       "</table>\n",
       "</div>"
      ],
      "text/plain": [
       "       id  user_id        completed_at  item_total  shipment_total\n",
       "9  247792     4493 2022-07-01 09:42:00         0.0             0.0"
      ]
     },
     "execution_count": 14,
     "metadata": {},
     "output_type": "execute_result"
    }
   ],
   "source": [
    "free_orders = df.loc[(df[\"item_total\"]) == 0 & (df[\"shipment_total\"] == 0)]\n",
    "free_orders.head()"
   ]
  },
  {
   "cell_type": "markdown",
   "metadata": {},
   "source": [
    "Interestingly there is an order with an item total and a shipment total of 0 which would represent a \"free\" order. This kind of data is to be discussed with the business team as it could be an unwanted behavior of the platform depending on our processes."
   ]
  },
  {
   "cell_type": "code",
   "execution_count": 20,
   "metadata": {},
   "outputs": [
    {
     "name": "stdout",
     "output_type": "stream",
     "text": [
      "3.760500344273583\n"
     ]
    },
    {
     "data": {
      "text/html": [
       "<div>\n",
       "<style scoped>\n",
       "    .dataframe tbody tr th:only-of-type {\n",
       "        vertical-align: middle;\n",
       "    }\n",
       "\n",
       "    .dataframe tbody tr th {\n",
       "        vertical-align: top;\n",
       "    }\n",
       "\n",
       "    .dataframe thead th {\n",
       "        text-align: right;\n",
       "    }\n",
       "</style>\n",
       "<table border=\"1\" class=\"dataframe\">\n",
       "  <thead>\n",
       "    <tr style=\"text-align: right;\">\n",
       "      <th></th>\n",
       "      <th>id</th>\n",
       "      <th>user_id</th>\n",
       "      <th>completed_at</th>\n",
       "      <th>item_total</th>\n",
       "      <th>shipment_total</th>\n",
       "    </tr>\n",
       "  </thead>\n",
       "  <tbody>\n",
       "    <tr>\n",
       "      <th>687</th>\n",
       "      <td>258224</td>\n",
       "      <td>24793</td>\n",
       "      <td>2022-08-12 17:13:00</td>\n",
       "      <td>348.43</td>\n",
       "      <td>11.5</td>\n",
       "    </tr>\n",
       "    <tr>\n",
       "      <th>1099</th>\n",
       "      <td>263222</td>\n",
       "      <td>34932</td>\n",
       "      <td>2022-08-21 10:12:00</td>\n",
       "      <td>50.44</td>\n",
       "      <td>14.5</td>\n",
       "    </tr>\n",
       "    <tr>\n",
       "      <th>1626</th>\n",
       "      <td>264845</td>\n",
       "      <td>35829</td>\n",
       "      <td>2022-08-31 08:58:00</td>\n",
       "      <td>37.79</td>\n",
       "      <td>12.0</td>\n",
       "    </tr>\n",
       "    <tr>\n",
       "      <th>130</th>\n",
       "      <td>265446</td>\n",
       "      <td>36177</td>\n",
       "      <td>2022-09-04 12:43:00</td>\n",
       "      <td>41.11</td>\n",
       "      <td>12.0</td>\n",
       "    </tr>\n",
       "    <tr>\n",
       "      <th>255</th>\n",
       "      <td>265899</td>\n",
       "      <td>36419</td>\n",
       "      <td>2022-09-07 15:56:00</td>\n",
       "      <td>36.68</td>\n",
       "      <td>12.0</td>\n",
       "    </tr>\n",
       "  </tbody>\n",
       "</table>\n",
       "</div>"
      ],
      "text/plain": [
       "          id  user_id        completed_at  item_total  shipment_total\n",
       "687   258224    24793 2022-08-12 17:13:00      348.43            11.5\n",
       "1099  263222    34932 2022-08-21 10:12:00       50.44            14.5\n",
       "1626  264845    35829 2022-08-31 08:58:00       37.79            12.0\n",
       "130   265446    36177 2022-09-04 12:43:00       41.11            12.0\n",
       "255   265899    36419 2022-09-07 15:56:00       36.68            12.0"
      ]
     },
     "execution_count": 20,
     "metadata": {},
     "output_type": "execute_result"
    }
   ],
   "source": [
    "print(df[\"shipment_total\"].mean())\n",
    "high_shipment_orders = df.loc[df[\"shipment_total\"] > 10]\n",
    "high_shipment_orders.head()"
   ]
  },
  {
   "cell_type": "markdown",
   "metadata": {},
   "source": [
    "The quantitative features don't show any anomaly in their distribution which is almost continuous and doesn't present any extreme outliers.\n",
    "We can see some orders with higher shipment totals (3 times higher than the mean value). As they represent ~1 per thousand order and the value is not extreme, we won't take any action about them. This could be investigated further with a business team."
   ]
  },
  {
   "cell_type": "markdown",
   "metadata": {},
   "source": [
    "### Dates\n",
    "\n",
    "As we parsed our date column as a datetime before, we will simply verify that our record are within our observation period (2022 07-09)"
   ]
  },
  {
   "cell_type": "code",
   "execution_count": 16,
   "metadata": {},
   "outputs": [
    {
     "data": {
      "text/html": [
       "<div>\n",
       "<style scoped>\n",
       "    .dataframe tbody tr th:only-of-type {\n",
       "        vertical-align: middle;\n",
       "    }\n",
       "\n",
       "    .dataframe tbody tr th {\n",
       "        vertical-align: top;\n",
       "    }\n",
       "\n",
       "    .dataframe thead th {\n",
       "        text-align: right;\n",
       "    }\n",
       "</style>\n",
       "<table border=\"1\" class=\"dataframe\">\n",
       "  <thead>\n",
       "    <tr style=\"text-align: right;\">\n",
       "      <th></th>\n",
       "      <th>id</th>\n",
       "      <th>user_id</th>\n",
       "      <th>completed_at</th>\n",
       "      <th>item_total</th>\n",
       "      <th>shipment_total</th>\n",
       "    </tr>\n",
       "  </thead>\n",
       "  <tbody>\n",
       "  </tbody>\n",
       "</table>\n",
       "</div>"
      ],
      "text/plain": [
       "Empty DataFrame\n",
       "Columns: [id, user_id, completed_at, item_total, shipment_total]\n",
       "Index: []"
      ]
     },
     "execution_count": 16,
     "metadata": {},
     "output_type": "execute_result"
    }
   ],
   "source": [
    "%matplotlib inline\n",
    "\n",
    "outside_scope_records = df.loc[(df[\"completed_at\"] < datetime.datetime(2022,7,1,0,0) )| (df[\"completed_at\"] > datetime.datetime(2022,9,30,23,59))]\n",
    "outside_scope_records"
   ]
  },
  {
   "cell_type": "markdown",
   "metadata": {},
   "source": [
    "No records are outside of our time window."
   ]
  },
  {
   "cell_type": "markdown",
   "metadata": {},
   "source": [
    "### Ids\n",
    "The only unique id in the dataframe should be the column \"id\" so we will finish our preliminary exploration with this unicity of this column."
   ]
  },
  {
   "cell_type": "code",
   "execution_count": 17,
   "metadata": {},
   "outputs": [
    {
     "data": {
      "text/plain": [
       "False"
      ]
     },
     "execution_count": 17,
     "metadata": {},
     "output_type": "execute_result"
    }
   ],
   "source": [
    "has_duplicate = df[\"id\"].duplicated().any()\n",
    "has_duplicate"
   ]
  },
  {
   "cell_type": "markdown",
   "metadata": {},
   "source": [
    "There are no duplicates in order ids."
   ]
  },
  {
   "cell_type": "markdown",
   "metadata": {},
   "source": [
    "At first glance our data doesn't seem to have any anomaly. We will proceed with the next steps using this work as a blueprint for our data ingestion."
   ]
  }
 ],
 "metadata": {
  "kernelspec": {
   "display_name": "Python 3.10.6 ('monthly_orders')",
   "language": "python",
   "name": "python3"
  },
  "language_info": {
   "codemirror_mode": {
    "name": "ipython",
    "version": 3
   },
   "file_extension": ".py",
   "mimetype": "text/x-python",
   "name": "python",
   "nbconvert_exporter": "python",
   "pygments_lexer": "ipython3",
   "version": "3.10.6"
  },
  "orig_nbformat": 4,
  "vscode": {
   "interpreter": {
    "hash": "dd35eaf3b5630fb5210f6322415ee51d55cfbd58e170caad3fa05b95c521dd24"
   }
  }
 },
 "nbformat": 4,
 "nbformat_minor": 2
}
